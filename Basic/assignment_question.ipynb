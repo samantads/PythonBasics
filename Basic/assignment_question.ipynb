{
 "cells": [
  {
   "cell_type": "markdown",
   "metadata": {},
   "source": [
    "# Lesson 1.2: Python Basics\n",
    "## Topics Covered:\n",
    "- Syntax and Semantics\n",
    "- Variables and Data Types\n",
    "- Basic Operators (Arithmetic, Comparison, Logical)\n"
   ]
  },
  {
   "cell_type": "markdown",
   "metadata": {},
   "source": [
    "## 1. Syntax and Semantics\n",
    "\n",
    "**Question 1:** Write a Python program to print \"Hello, World!\"."
   ]
  },
  {
   "cell_type": "code",
   "execution_count": 1,
   "metadata": {},
   "outputs": [
    {
     "name": "stdout",
     "output_type": "stream",
     "text": [
      "Hello, World!\n"
     ]
    }
   ],
   "source": [
    "# Your code here\n",
    "print(\"Hello, World!\")"
   ]
  },
  {
   "cell_type": "markdown",
   "metadata": {},
   "source": [
    "**Question 2:** Write a Python program that takes a user input and prints it."
   ]
  },
  {
   "cell_type": "code",
   "execution_count": 2,
   "metadata": {},
   "outputs": [
    {
     "name": "stdout",
     "output_type": "stream",
     "text": [
      "sanghamitra\n"
     ]
    }
   ],
   "source": [
    "# Your code here\n",
    "name=input(\"Please enter your name\")\n",
    "print(name)"
   ]
  },
  {
   "cell_type": "markdown",
   "metadata": {},
   "source": [
    "**Question 3:** Write a Python program to check if a number is positive, negative, or zero."
   ]
  },
  {
   "cell_type": "code",
   "execution_count": 10,
   "metadata": {},
   "outputs": [
    {
     "name": "stdout",
     "output_type": "stream",
     "text": [
      "Its a positive number\n"
     ]
    }
   ],
   "source": [
    "# Your code here\n",
    "def checkNumber(num):\n",
    "     if num > 0 :\n",
    "          print(\"Its a positive number\")\n",
    "     elif num < 0 :\n",
    "          print(\"Its  a Negative number\")\n",
    "     else :\n",
    "          print(\"Its zero\")\n",
    "     \n",
    "try:\n",
    "    number=float(input(\"Enter the number\"))\n",
    "    checkNumber(number)\n",
    "\n",
    "except ValueError:\n",
    "\n",
    "     print(\"Invalid number entered!\")\n",
    "\n"
   ]
  },
  {
   "cell_type": "markdown",
   "metadata": {},
   "source": [
    "**Question 4:** Write a Python program to find the largest of three numbers."
   ]
  },
  {
   "cell_type": "code",
   "execution_count": 12,
   "metadata": {},
   "outputs": [
    {
     "name": "stdout",
     "output_type": "stream",
     "text": [
      "The largest number is 9.0\n"
     ]
    }
   ],
   "source": [
    "# Your code here\n",
    "def find_largest_number(num1,num2,num3):\n",
    "    if num1 >num2 and num1 > num3:\n",
    "        return num1\n",
    "    elif num2>num1 and num2>num3:\n",
    "        return num2\n",
    "    else: return num3\n",
    "try:\n",
    "    number1 = float(input(\"Enter the number1\"))\n",
    "    number2 = float(input(\"Enter the number2\"))\n",
    "    number3 = float(input(\"Enter the number3\"))\n",
    "    largest =find_largest_number(number1,number2,number3)\n",
    "    print(f\"The largest number is {largest}\")\n",
    "\n",
    "except ValueError:\n",
    "    print(\"Please enter valid number\")"
   ]
  },
  {
   "cell_type": "markdown",
   "metadata": {},
   "source": [
    "**Question 5:** Write a Python program to calculate the factorial of a number."
   ]
  },
  {
   "cell_type": "code",
   "execution_count": null,
   "metadata": {},
   "outputs": [
    {
     "name": "stdout",
     "output_type": "stream",
     "text": [
      "Factorial of 5 is 120\n"
     ]
    }
   ],
   "source": [
    "# Your code here\n",
    "def factorial_recursive(num):\n",
    "    if num == 1 or num == 0:\n",
    "        return 1\n",
    "    else:\n",
    "        return num*factorial_recursive(num-1)\n",
    "\n",
    "def factorial_iterative(num):\n",
    "    result =1\n",
    "    for i in range(2, num+1):\n",
    "        result *= i\n",
    "    \n",
    "    return result\n",
    "\n",
    "try:\n",
    "    number= int(input(\"Enter the non negative number\"))\n",
    "    ##if we use float type conversion for input value then for recursive it wont throw error where as in iterative it wiill throw error\n",
    "    #TypeError: 'float' object cannot be interpreted as an integer\n",
    "    ##if we look for performance factor then we should go with recurssive method\n",
    "    if number < 0:\n",
    "        print(\"Non negative numbers factorial is not possible\")\n",
    "    else:\n",
    "        print(f\"Factorial of {number} is {factorial_recursive(number)}\")\n",
    "        print(f\"Factorial of {number} is {factorial_iterative(number)}\")\n",
    "\n",
    "except ValueError:\n",
    "    print(\"Enter valid number\")       \n"
   ]
  },
  {
   "cell_type": "markdown",
   "metadata": {},
   "source": [
    "## 2. Variables and Data Types\n",
    "\n",
    "**Question 6:** Create variables of different data types: integer, float, string, and boolean. Print their values and types."
   ]
  },
  {
   "cell_type": "code",
   "execution_count": 25,
   "metadata": {},
   "outputs": [
    {
     "name": "stdout",
     "output_type": "stream",
     "text": [
      "babi <class 'str'>\n",
      "32 <class 'int'>\n",
      "14.5 <class 'float'>\n",
      "True <class 'bool'>\n"
     ]
    }
   ],
   "source": [
    "# Your code here\n",
    "name=\"babi\"\n",
    "age=32\n",
    "height=14.5\n",
    "is_adult=True\n",
    "print(name,type(name))\n",
    "print(age,type(age))\n",
    "print(height,type(height))\n",
    "print(is_adult,type(is_adult))"
   ]
  },
  {
   "cell_type": "markdown",
   "metadata": {},
   "source": [
    "**Question 7:** Write a Python program to swap the values of two variables."
   ]
  },
  {
   "cell_type": "code",
   "execution_count": 30,
   "metadata": {},
   "outputs": [
    {
     "name": "stdout",
     "output_type": "stream",
     "text": [
      "a value is10\n",
      "b value is 20\n",
      "a value is20\n",
      "b value is 10\n"
     ]
    }
   ],
   "source": [
    "# Your code here\n",
    "a=10\n",
    "b=20\n",
    "print(\"a value is\"+str(a))\n",
    "print(\"b value is \"+str(b))\n",
    "\n",
    "\n",
    "a,b=b,a\n",
    "print(\"a value is\"+str(a))\n",
    "print(\"b value is \"+str(b))"
   ]
  },
  {
   "cell_type": "markdown",
   "metadata": {},
   "source": [
    "**Question 8:** Write a Python program to convert Celsius to Fahrenheit."
   ]
  },
  {
   "cell_type": "code",
   "execution_count": 41,
   "metadata": {},
   "outputs": [
    {
     "name": "stdout",
     "output_type": "stream",
     "text": [
      "45.0°C is equal to 113.00°F\n"
     ]
    }
   ],
   "source": [
    "# Your code here\n",
    "def celcius_to_farenhite(cel):\n",
    "    return  (cel * 9/5) + 32\n",
    "\n",
    "\n",
    "try:\n",
    "    celcius = float(input(\"Enter the celcius value\"))\n",
    "    fahrenheit = celcius_to_farenhite(celcius)\n",
    "    print(f\"{celcius}°C is equal to {fahrenheit:.2f}°F\")\n",
    "except ValueError:\n",
    "    print(\"Invalid value entered\")"
   ]
  },
  {
   "cell_type": "markdown",
   "metadata": {},
   "source": [
    "**Question 9:** Write a Python program to concatenate two strings."
   ]
  },
  {
   "cell_type": "code",
   "execution_count": 44,
   "metadata": {},
   "outputs": [
    {
     "name": "stdout",
     "output_type": "stream",
     "text": [
      "Concatenated String: sanghamitra amanta\n"
     ]
    }
   ],
   "source": [
    "# Your code here\n",
    "# Taking user input\n",
    "str1 = input(\"Enter the first string: \")\n",
    "str2 = input(\"Enter the second string: \")\n",
    "\n",
    "# Concatenating the strings\n",
    "concatenated_str = str1 + \" \"+str2\n",
    "\n",
    "# Displaying the result\n",
    "print(f\"Concatenated String: {concatenated_str}\")"
   ]
  },
  {
   "cell_type": "markdown",
   "metadata": {},
   "source": [
    "**Question 10:** Write a Python program to check if a variable is of a specific data type."
   ]
  },
  {
   "cell_type": "code",
   "execution_count": 47,
   "metadata": {},
   "outputs": [
    {
     "name": "stdout",
     "output_type": "stream",
     "text": [
      "Is var1 an integer? True\n",
      "Is var2 a string? True\n",
      "Is var3 a float? True\n",
      "Is var4 a list? True\n",
      "Is var5 a bool? True\n"
     ]
    }
   ],
   "source": [
    "# Your code here\n",
    "# Function to check data type\n",
    "def check_type(variable, data_type):\n",
    "    return isinstance(variable, data_type)\n",
    "\n",
    "# Test cases\n",
    "var1 = 10\n",
    "var2 = \"Hello\"\n",
    "var3 = 3.14\n",
    "var4 = [1, 2, 3]\n",
    "var5 = True\n",
    "\n",
    "# Checking types\n",
    "print(f\"Is var1 an integer? {check_type(var1, int)}\")\n",
    "print(f\"Is var2 a string? {check_type(var2, str)}\")\n",
    "print(f\"Is var3 a float? {check_type(var3, float)}\")\n",
    "print(f\"Is var4 a list? {check_type(var4, list)}\")\n",
    "print(f\"Is var5 a bool? {check_type(var5, bool)}\")"
   ]
  },
  {
   "cell_type": "markdown",
   "metadata": {},
   "source": [
    "## 3. Basic Operators (Arithmetic, Comparison, Logical)\n",
    "\n",
    "**Question 11:** Write a Python program to perform arithmetic operations: addition, subtraction, multiplication, and division."
   ]
  },
  {
   "cell_type": "code",
   "execution_count": 50,
   "metadata": {},
   "outputs": [
    {
     "name": "stdout",
     "output_type": "stream",
     "text": [
      "Addition: 15.0\n",
      "Subtraction: -5.0\n",
      "Multiplication: 50.0\n",
      "Division: 0.5\n"
     ]
    }
   ],
   "source": [
    "# Your code here\n",
    "# Function to perform arithmetic operations\n",
    "def arithmetic_operations(a, b):\n",
    "    addition = a + b\n",
    "    subtraction = a - b\n",
    "    multiplication = a * b\n",
    "    division = a / b if b != 0 else \"Undefined (Division by zero)\"\n",
    "    \n",
    "    return addition, subtraction, multiplication, division\n",
    "\n",
    "# Taking user input\n",
    "try:\n",
    "    num1 = float(input(\"Enter the first number: \"))\n",
    "    num2 = float(input(\"Enter the second number: \"))\n",
    "\n",
    "    # Performing operations\n",
    "    add, sub, mul, div = arithmetic_operations(num1, num2)\n",
    "\n",
    "    # Displaying results\n",
    "    print(f\"Addition: {add}\")\n",
    "    print(f\"Subtraction: {sub}\")\n",
    "    print(f\"Multiplication: {mul}\")\n",
    "    print(f\"Division: {div}\")\n",
    "\n",
    "except ValueError:\n",
    "    print(\"Invalid input! Please enter valid numbers.\")\n",
    "\n"
   ]
  },
  {
   "cell_type": "markdown",
   "metadata": {},
   "source": [
    "**Question 12:** Write a Python program to demonstrate comparison operators: equal to, not equal to, greater than, less than."
   ]
  },
  {
   "cell_type": "code",
   "execution_count": 51,
   "metadata": {},
   "outputs": [
    {
     "name": "stdout",
     "output_type": "stream",
     "text": [
      "10.0 == 45.0  →  False\n",
      "10.0 != 45.0  →  True\n",
      "10.0 > 45.0   →  False\n",
      "10.0 < 45.0   →  True\n",
      "10.0 >= 45.0  →  False\n",
      "10.0 <= 45.0  →  True\n"
     ]
    }
   ],
   "source": [
    "# Your code here\n",
    "# Function to demonstrate comparison operators\n",
    "def compare_numbers(a, b):\n",
    "    print(f\"{a} == {b}  →  {a == b}\")  # Equal to\n",
    "    print(f\"{a} != {b}  →  {a != b}\")  # Not equal to\n",
    "    print(f\"{a} > {b}   →  {a > b}\")   # Greater than\n",
    "    print(f\"{a} < {b}   →  {a < b}\")   # Less than\n",
    "    print(f\"{a} >= {b}  →  {a >= b}\")  # Greater than or equal to\n",
    "    print(f\"{a} <= {b}  →  {a <= b}\")  # Less than or equal to\n",
    "\n",
    "# Taking user input\n",
    "try:\n",
    "    num1 = float(input(\"Enter the first number: \"))\n",
    "    num2 = float(input(\"Enter the second number: \"))\n",
    "\n",
    "    # Perform comparisons\n",
    "    compare_numbers(num1, num2)\n",
    "\n",
    "except ValueError:\n",
    "    print(\"Invalid input! Please enter valid numbers.\")"
   ]
  },
  {
   "cell_type": "markdown",
   "metadata": {},
   "source": [
    "**Question 13:** Write a Python program to demonstrate logical operators: and, or, not."
   ]
  },
  {
   "cell_type": "code",
   "execution_count": 53,
   "metadata": {},
   "outputs": [
    {
     "name": "stdout",
     "output_type": "stream",
     "text": [
      "(10.0 > 0) and (-8.0 > 0)  →  False\n",
      "(10.0 > 0) or (-8.0 > 0)   →  True\n",
      "not (10.0 > 0)           →  False\n"
     ]
    }
   ],
   "source": [
    "# Your code here\n",
    "# Function to demonstrate logical operators\n",
    "def logical_operations(a, b):\n",
    "    print(f\"({a} > 0) and ({b} > 0)  →  {(a > 0) and (b > 0)}\")  # AND operator\n",
    "    print(f\"({a} > 0) or ({b} > 0)   →  {(a > 0) or (b > 0)}\")   # OR operator\n",
    "    print(f\"not ({a} > 0)           →  {not (a > 0)}\")          # NOT operator\n",
    "\n",
    "# Taking user input\n",
    "try:\n",
    "    num1 = float(input(\"Enter the first number: \"))\n",
    "    num2 = float(input(\"Enter the second number: \"))\n",
    "\n",
    "    # Perform logical operations\n",
    "    logical_operations(num1, num2)\n",
    "\n",
    "except ValueError:\n",
    "    print(\"Invalid input! Please enter valid numbers.\")"
   ]
  },
  {
   "cell_type": "markdown",
   "metadata": {},
   "source": [
    "**Question 14:** Write a Python program to calculate the square of a number."
   ]
  },
  {
   "cell_type": "code",
   "execution_count": 55,
   "metadata": {},
   "outputs": [
    {
     "name": "stdout",
     "output_type": "stream",
     "text": [
      "The square of 4.0 is 16.0\n"
     ]
    }
   ],
   "source": [
    "# Your code here\n",
    "# Function to calculate the square of a number\n",
    "def square(num):\n",
    "    return num ** 2  # Using exponentiation operator\n",
    "\n",
    "# Taking user input\n",
    "try:\n",
    "    num = float(input(\"Enter a number: \"))\n",
    "    result = square(num)\n",
    "    print(f\"The square of {num} is {result}\")\n",
    "except ValueError:\n",
    "        print(\"Invalid input! Please enter a valid number.\")\n"
   ]
  },
  {
   "cell_type": "markdown",
   "metadata": {},
   "source": [
    "**Question 15:** Write a Python program to check if a number is even or odd."
   ]
  },
  {
   "cell_type": "code",
   "execution_count": 56,
   "metadata": {},
   "outputs": [
    {
     "name": "stdout",
     "output_type": "stream",
     "text": [
      "2 is an even number.\n"
     ]
    }
   ],
   "source": [
    "# Your code here\n",
    "# Function to check if a number is even or odd\n",
    "def check_even_odd(num):\n",
    "    if num % 2 == 0:\n",
    "        print(f\"{num} is an even number.\")\n",
    "    else:\n",
    "        print(f\"{num} is an odd number.\")\n",
    "\n",
    "# Taking user input\n",
    "try:\n",
    "    num = int(input(\"Enter an integer: \"))\n",
    "    check_even_odd(num)\n",
    "except ValueError:\n",
    "    print(\"Invalid input! Please enter a valid integer.\")"
   ]
  },
  {
   "cell_type": "markdown",
   "metadata": {},
   "source": [
    "**Question 16:** Write a Python program to find the sum of the first n natural numbers."
   ]
  },
  {
   "cell_type": "code",
   "execution_count": 59,
   "metadata": {},
   "outputs": [
    {
     "name": "stdout",
     "output_type": "stream",
     "text": [
      "The sum of the first 10 natural numbers is 55\n"
     ]
    }
   ],
   "source": [
    "# Your code here\n",
    "# Function to calculate the sum of first n natural numbers\n",
    "def sum_natural_numbers(n):\n",
    "    return (n * (n + 1)) // 2  # Using the formula: n(n+1)/2\n",
    "\n",
    "# Taking user input\n",
    "try:\n",
    "    num = int(input(\"Enter a positive integer: \"))\n",
    "\n",
    "    if num < 1:\n",
    "        print(\"Please enter a positive integer.\")\n",
    "    else:\n",
    "        result = sum_natural_numbers(num)\n",
    "        print(f\"The sum of the first {num} natural numbers is {result}\")\n",
    "\n",
    "except ValueError:\n",
    "    print(\"Invalid input! Please enter a valid positive integer.\")"
   ]
  },
  {
   "cell_type": "markdown",
   "metadata": {},
   "source": [
    "**Question 17:** Write a Python program to check if a year is a leap year."
   ]
  },
  {
   "cell_type": "code",
   "execution_count": 64,
   "metadata": {},
   "outputs": [
    {
     "name": "stdout",
     "output_type": "stream",
     "text": [
      "2026 is not a leap year.\n"
     ]
    }
   ],
   "source": [
    "# Your code here\n",
    "# Function to check if a year is a leap year\n",
    "def is_leap_year(year):\n",
    "    if (year % 4 == 0 and year % 100 != 0) or (year % 400 == 0):\n",
    "        return True\n",
    "    return False\n",
    "\n",
    "# Taking user input\n",
    "try:\n",
    "    year = int(input(\"Enter a year: \"))\n",
    "\n",
    "    # Checking and displaying the result\n",
    "    if is_leap_year(year):\n",
    "        print(f\"{year} is a leap year.\")\n",
    "    else:\n",
    "        print(f\"{year} is not a leap year.\")\n",
    "\n",
    "except ValueError:\n",
    "    print(\"Invalid input! Please enter a valid year.\")\n"
   ]
  },
  {
   "cell_type": "markdown",
   "metadata": {},
   "source": [
    "**Question 18:** Write a Python program to reverse a string."
   ]
  },
  {
   "cell_type": "code",
   "execution_count": 67,
   "metadata": {},
   "outputs": [
    {
     "name": "stdout",
     "output_type": "stream",
     "text": [
      "Reversed string using slicing technique: nohtyp\n",
      "Reversed string using slicing technique: nohtyp\n"
     ]
    }
   ],
   "source": [
    "# Your code here\n",
    "# Function to reverse a string\n",
    "def reverse_string_slicing(s):\n",
    "    return s[::-1]  # Using slicing to reverse the string\n",
    "\n",
    "def reverse_string_looping(s):\n",
    "    reversed_str = \"\"\n",
    "    for char in s:   # Using loop to reverse the string\n",
    "        reversed_str = char + reversed_str\n",
    "    return reversed_str\n",
    "\n",
    "# Taking user input\n",
    "string = input(\"Enter a string: \")\n",
    "\n",
    "# Displaying the reversed string\n",
    "print(f\"Reversed string using slicing technique: {reverse_string_slicing(string)}\")\n",
    "print(f\"Reversed string using slicing technique: {reverse_string_looping(string)}\")\n"
   ]
  },
  {
   "cell_type": "markdown",
   "metadata": {},
   "source": [
    "**Question 19:** Write a Python program to check if a string is a palindrome."
   ]
  },
  {
   "cell_type": "code",
   "execution_count": 71,
   "metadata": {},
   "outputs": [
    {
     "name": "stdout",
     "output_type": "stream",
     "text": [
      "\"how\" is not a palindrome.\n"
     ]
    }
   ],
   "source": [
    "# Your code here\n",
    "# Function to check if a string is a palindrome\n",
    "def is_palindrome(s):\n",
    "    s = s.lower().replace(\" \", \"\")  # Convert to lowercase & remove spaces\n",
    "    return s == s[::-1]  # Compare with its reverse \n",
    "\n",
    "# Taking user input\n",
    "string = input(\"Enter a string: \")\n",
    "\n",
    "# Checking and displaying the result\n",
    "if is_palindrome(string):\n",
    "    print(f'\"{string}\" is a palindrome.')\n",
    "else:\n",
    "    print(f'\"{string}\" is not a palindrome.')\n"
   ]
  },
  {
   "cell_type": "markdown",
   "metadata": {},
   "source": [
    "**Question 20:** Write a Python program to sort a list of numbers in ascending order."
   ]
  },
  {
   "cell_type": "code",
   "execution_count": 73,
   "metadata": {},
   "outputs": [
    {
     "name": "stdout",
     "output_type": "stream",
     "text": [
      "Sorted list: [2, 3, 3, 4, 5, 6, 8, 9]\n"
     ]
    }
   ],
   "source": [
    "# Your code here\n",
    "# Function to sort a list in ascending order\n",
    "def sort_numbers(numbers):\n",
    "    return sorted(numbers)  # Using the built-in sorted() function\n",
    "\n",
    "# Taking user input\n",
    "try:\n",
    "    num_list = list(map(int, input(\"Enter numbers separated by spaces: \").split()))\n",
    "    \n",
    "    # Sorting and displaying the result\n",
    "    sorted_list = sort_numbers(num_list)\n",
    "    print(f\"Sorted list: {sorted_list}\")\n",
    "\n",
    "except ValueError:\n",
    "    print(\"Invalid input! Please enter only numbers separated by spaces.\")\n"
   ]
  }
 ],
 "metadata": {
  "kernelspec": {
   "display_name": "pythonbasic",
   "language": "python",
   "name": "python3"
  },
  "language_info": {
   "codemirror_mode": {
    "name": "ipython",
    "version": 3
   },
   "file_extension": ".py",
   "mimetype": "text/x-python",
   "name": "python",
   "nbconvert_exporter": "python",
   "pygments_lexer": "ipython3",
   "version": "3.13.2"
  }
 },
 "nbformat": 4,
 "nbformat_minor": 4
}
